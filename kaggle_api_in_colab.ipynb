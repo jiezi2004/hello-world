{
  "nbformat": 4,
  "nbformat_minor": 0,
  "metadata": {
    "colab": {
      "name": "How to use the Kaggle API from Colab",
      "provenance": [],
      "collapsed_sections": [],
      "toc_visible": true,
      "include_colab_link": true
    },
    "kernelspec": {
      "name": "python3",
      "display_name": "Python 3"
    }
  },
  "cells": [
    {
      "cell_type": "markdown",
      "metadata": {
        "id": "view-in-github",
        "colab_type": "text"
      },
      "source": [
        "<a href=\"https://colab.research.google.com/github/jiezi2004/hello-world/blob/readme-edits/kaggle_api_in_colab.ipynb\" target=\"_parent\"><img src=\"https://colab.research.google.com/assets/colab-badge.svg\" alt=\"Open In Colab\"/></a>"
      ]
    },
    {
      "metadata": {
        "id": "DIf2PtekjPtY"
      },
      "cell_type": "markdown",
      "source": [
        "# Installing the [Kaggle API](https://github.com/Kaggle/kaggle-api) in Colab"
      ]
    },
    {
      "metadata": {
        "id": "OppyMnCuWjzJ"
      },
      "cell_type": "code",
      "source": [
        "!pip install kaggle"
      ],
      "execution_count": null,
      "outputs": []
    },
    {
      "metadata": {
        "id": "hMY4CFezjcG-"
      },
      "cell_type": "markdown",
      "source": [
        "# Authenticating with Kaggle using kaggle.json\n",
        "\n",
        "Navigate to https://www.kaggle.com. Then go to the [Account tab of your user profile](https://www.kaggle.com/me/account) and select Create API Token. This will trigger the download of kaggle.json, a file containing your API credentials.\n",
        "\n",
        "Then run the cell below to upload kaggle.json to your Colab runtime."
      ]
    },
    {
      "metadata": {
        "id": "0HtGf0HEXEa5",
        "outputId": "752a209d-c527-4b52-9aed-aa4d4c6f091a",
        "colab": {
          "resources": {
            "http://localhost:8080/nbextensions/google.colab/files.js": {
              "data": "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",
              "ok": true,
              "headers": [
                [
                  "content-type",
                  "application/javascript"
                ]
              ],
              "status": 200,
              "status_text": ""
            }
          },
          "base_uri": "https://localhost:8080/",
          "height": 94
        }
      },
      "cell_type": "code",
      "source": [
        "from google.colab import files\n",
        "\n",
        "uploaded = files.upload()\n",
        "\n",
        "for fn in uploaded.keys():\n",
        "  print('User uploaded file \"{name}\" with length {length} bytes'.format(\n",
        "      name=fn, length=len(uploaded[fn])))\n",
        "  \n",
        "# Then move kaggle.json into the folder where the API expects to find it.\n",
        "!mkdir -p ~/.kaggle/ && mv kaggle.json ~/.kaggle/ && chmod 600 ~/.kaggle/kaggle.json"
      ],
      "execution_count": 1,
      "outputs": [
        {
          "output_type": "display_data",
          "data": {
            "text/plain": [
              "<IPython.core.display.HTML object>"
            ],
            "text/html": [
              "\n",
              "     <input type=\"file\" id=\"files-d14a6feb-4c2f-4e45-84bb-eb1d4d69b84f\" name=\"files[]\" multiple disabled\n",
              "        style=\"border:none\" />\n",
              "     <output id=\"result-d14a6feb-4c2f-4e45-84bb-eb1d4d69b84f\">\n",
              "      Upload widget is only available when the cell has been executed in the\n",
              "      current browser session. Please rerun this cell to enable.\n",
              "      </output>\n",
              "      <script src=\"/nbextensions/google.colab/files.js\"></script> "
            ]
          },
          "metadata": {}
        },
        {
          "output_type": "stream",
          "name": "stdout",
          "text": [
            "Saving kaggle.json to kaggle.json\n",
            "User uploaded file \"kaggle.json\" with length 65 bytes\n"
          ]
        }
      ]
    },
    {
      "metadata": {
        "id": "HMk7Zz4ZkpCe"
      },
      "cell_type": "markdown",
      "source": [
        "# Using the Kaggle API\n",
        "\n",
        "For a more complete list of what you can do with the API, visit https://github.com/Kaggle/kaggle-api."
      ]
    },
    {
      "metadata": {
        "id": "SHVqmMXfilWG"
      },
      "cell_type": "markdown",
      "source": [
        "## Listing competitions"
      ]
    },
    {
      "metadata": {
        "id": "Oqt7Yfi5aQuM",
        "outputId": "521fe5c4-18c0-43a4-f473-33fd9a70274f",
        "colab": {
          "base_uri": "https://localhost:8080/"
        }
      },
      "cell_type": "code",
      "source": [
        "!kaggle competitions list"
      ],
      "execution_count": 2,
      "outputs": [
        {
          "output_type": "stream",
          "name": "stdout",
          "text": [
            "ref                                            deadline             category            reward  teamCount  userHasEntered  \n",
            "---------------------------------------------  -------------------  ---------------  ---------  ---------  --------------  \n",
            "contradictory-my-dear-watson                   2030-07-01 23:59:00  Getting Started     Prizes         36           False  \n",
            "gan-getting-started                            2030-07-01 23:59:00  Getting Started     Prizes        135           False  \n",
            "store-sales-time-series-forecasting            2030-06-30 23:59:00  Getting Started  Knowledge        640           False  \n",
            "tpu-getting-started                            2030-06-03 23:59:00  Getting Started  Knowledge        125            True  \n",
            "digit-recognizer                               2030-01-01 00:00:00  Getting Started  Knowledge       1679           False  \n",
            "titanic                                        2030-01-01 00:00:00  Getting Started  Knowledge      14000            True  \n",
            "house-prices-advanced-regression-techniques    2030-01-01 00:00:00  Getting Started  Knowledge       4284           False  \n",
            "connectx                                       2030-01-01 00:00:00  Getting Started  Knowledge        212           False  \n",
            "nlp-getting-started                            2030-01-01 00:00:00  Getting Started  Knowledge        978           False  \n",
            "spaceship-titanic                              2030-01-01 00:00:00  Getting Started  Knowledge       2192           False  \n",
            "competitive-data-science-predict-future-sales  2022-12-31 23:59:00  Playground           Kudos      14922           False  \n",
            "amex-default-prediction                        2022-08-24 23:59:00  Featured          $100,000        967            True  \n",
            "feedback-prize-effectiveness                   2022-08-23 23:59:00  Featured           $55,000        237           False  \n",
            "AI4Code                                        2022-08-11 23:59:00  Featured          $150,000        502           False  \n",
            "smartphone-decimeter-2022                      2022-07-29 23:59:00  Research           $10,000        245           False  \n",
            "ubiquant-market-prediction                     2022-07-18 23:59:00  Featured          $100,000       2356           False  \n",
            "uw-madison-gi-tract-image-segmentation         2022-07-14 23:59:00  Research           $25,000       1042           False  \n",
            "kore-2022                                      2022-07-12 23:59:00  Featured           $15,000        322           False  \n",
            "foursquare-location-matching                   2022-07-07 23:59:00  Featured           $25,000        815           False  \n",
            "jpx-tokyo-stock-exchange-prediction            2022-07-05 23:59:00  Featured           $63,000       1515           False  \n"
          ]
        }
      ]
    },
    {
      "metadata": {
        "id": "dNke00r6ig3h"
      },
      "cell_type": "markdown",
      "source": [
        "## Downloading a dataset"
      ]
    },
    {
      "cell_type": "code",
      "source": [
        "kaggle datasets list -s demographics"
      ],
      "metadata": {
        "id": "98EOmCpj58ui"
      },
      "execution_count": null,
      "outputs": []
    },
    {
      "metadata": {
        "id": "Aojvqv8Gaf8I",
        "colab": {
          "base_uri": "https://localhost:8080/"
        },
        "outputId": "a6a0e096-278e-45f0-f62e-0155d7bcac1e"
      },
      "cell_type": "code",
      "source": [
        "!kaggle datasets download \"center-for-policing-equity/data-science-for-good\""
      ],
      "execution_count": 4,
      "outputs": [
        {
          "output_type": "stream",
          "name": "stdout",
          "text": [
            "Downloading data-science-for-good.zip to /content\n",
            " 82% 78.0M/94.7M [00:00<00:00, 140MB/s] \n",
            "100% 94.7M/94.7M [00:00<00:00, 127MB/s]\n"
          ]
        }
      ]
    },
    {
      "metadata": {
        "id": "DsyV01gDaxls"
      },
      "cell_type": "code",
      "source": [
        "!unzip data-science-for-good.zip"
      ],
      "execution_count": null,
      "outputs": []
    },
    {
      "metadata": {
        "id": "L7ZmFbHybsPk",
        "outputId": "f5fc68d7-a3e7-4a4e-9f61-10de044244b1",
        "colab": {
          "base_uri": "https://localhost:8080/",
          "height": 491
        }
      },
      "cell_type": "code",
      "source": [
        "import pandas as pd \n",
        "\n",
        "basepath = \"Dept_23-00089/23-00089_ACS_data/23-00089_ACS_race-sex-age/\"\n",
        "rca_df = pd.read_csv(basepath + \"ACS_15_5YR_DP05_with_ann.csv\")\n",
        "rca_df.head()"
      ],
      "execution_count": null,
      "outputs": [
        {
          "output_type": "execute_result",
          "data": {
            "text/html": [
              "<div>\n",
              "<style scoped>\n",
              "    .dataframe tbody tr th:only-of-type {\n",
              "        vertical-align: middle;\n",
              "    }\n",
              "\n",
              "    .dataframe tbody tr th {\n",
              "        vertical-align: top;\n",
              "    }\n",
              "\n",
              "    .dataframe thead th {\n",
              "        text-align: right;\n",
              "    }\n",
              "</style>\n",
              "<table border=\"1\" class=\"dataframe\">\n",
              "  <thead>\n",
              "    <tr style=\"text-align: right;\">\n",
              "      <th></th>\n",
              "      <th>GEO.id</th>\n",
              "      <th>GEO.id2</th>\n",
              "      <th>GEO.display-label</th>\n",
              "      <th>HC01_VC03</th>\n",
              "      <th>HC02_VC03</th>\n",
              "      <th>HC03_VC03</th>\n",
              "      <th>HC04_VC03</th>\n",
              "      <th>HC01_VC04</th>\n",
              "      <th>HC02_VC04</th>\n",
              "      <th>HC03_VC04</th>\n",
              "      <th>...</th>\n",
              "      <th>HC03_VC108</th>\n",
              "      <th>HC04_VC108</th>\n",
              "      <th>HC01_VC109</th>\n",
              "      <th>HC02_VC109</th>\n",
              "      <th>HC03_VC109</th>\n",
              "      <th>HC04_VC109</th>\n",
              "      <th>HC01_VC110</th>\n",
              "      <th>HC02_VC110</th>\n",
              "      <th>HC03_VC110</th>\n",
              "      <th>HC04_VC110</th>\n",
              "    </tr>\n",
              "  </thead>\n",
              "  <tbody>\n",
              "    <tr>\n",
              "      <th>0</th>\n",
              "      <td>Id</td>\n",
              "      <td>Id2</td>\n",
              "      <td>Geography</td>\n",
              "      <td>Estimate; SEX AND AGE - Total population</td>\n",
              "      <td>Margin of Error; SEX AND AGE - Total population</td>\n",
              "      <td>Percent; SEX AND AGE - Total population</td>\n",
              "      <td>Percent Margin of Error; SEX AND AGE - Total p...</td>\n",
              "      <td>Estimate; SEX AND AGE - Total population - Male</td>\n",
              "      <td>Margin of Error; SEX AND AGE - Total populatio...</td>\n",
              "      <td>Percent; SEX AND AGE - Total population - Male</td>\n",
              "      <td>...</td>\n",
              "      <td>Percent; CITIZEN, VOTING AGE POPULATION - Citi...</td>\n",
              "      <td>Percent Margin of Error; CITIZEN, VOTING AGE P...</td>\n",
              "      <td>Estimate; CITIZEN, VOTING AGE POPULATION - Cit...</td>\n",
              "      <td>Margin of Error; CITIZEN, VOTING AGE POPULATIO...</td>\n",
              "      <td>Percent; CITIZEN, VOTING AGE POPULATION - Citi...</td>\n",
              "      <td>Percent Margin of Error; CITIZEN, VOTING AGE P...</td>\n",
              "      <td>Estimate; CITIZEN, VOTING AGE POPULATION - Cit...</td>\n",
              "      <td>Margin of Error; CITIZEN, VOTING AGE POPULATIO...</td>\n",
              "      <td>Percent; CITIZEN, VOTING AGE POPULATION - Citi...</td>\n",
              "      <td>Percent Margin of Error; CITIZEN, VOTING AGE P...</td>\n",
              "    </tr>\n",
              "    <tr>\n",
              "      <th>1</th>\n",
              "      <td>1400000US18097310103</td>\n",
              "      <td>18097310103</td>\n",
              "      <td>Census Tract 3101.03, Marion County, Indiana</td>\n",
              "      <td>6700</td>\n",
              "      <td>435</td>\n",
              "      <td>6700</td>\n",
              "      <td>(X)</td>\n",
              "      <td>3167</td>\n",
              "      <td>419</td>\n",
              "      <td>47.3</td>\n",
              "      <td>...</td>\n",
              "      <td>4881</td>\n",
              "      <td>(X)</td>\n",
              "      <td>2167</td>\n",
              "      <td>208</td>\n",
              "      <td>44.4</td>\n",
              "      <td>3.3</td>\n",
              "      <td>2714</td>\n",
              "      <td>234</td>\n",
              "      <td>55.6</td>\n",
              "      <td>3.3</td>\n",
              "    </tr>\n",
              "    <tr>\n",
              "      <th>2</th>\n",
              "      <td>1400000US18097310104</td>\n",
              "      <td>18097310104</td>\n",
              "      <td>Census Tract 3101.04, Marion County, Indiana</td>\n",
              "      <td>3309</td>\n",
              "      <td>283</td>\n",
              "      <td>3309</td>\n",
              "      <td>(X)</td>\n",
              "      <td>1374</td>\n",
              "      <td>217</td>\n",
              "      <td>41.5</td>\n",
              "      <td>...</td>\n",
              "      <td>2988</td>\n",
              "      <td>(X)</td>\n",
              "      <td>1179</td>\n",
              "      <td>194</td>\n",
              "      <td>39.5</td>\n",
              "      <td>6.2</td>\n",
              "      <td>1809</td>\n",
              "      <td>244</td>\n",
              "      <td>60.5</td>\n",
              "      <td>6.2</td>\n",
              "    </tr>\n",
              "    <tr>\n",
              "      <th>3</th>\n",
              "      <td>1400000US18097310105</td>\n",
              "      <td>18097310105</td>\n",
              "      <td>Census Tract 3101.05, Marion County, Indiana</td>\n",
              "      <td>3612</td>\n",
              "      <td>272</td>\n",
              "      <td>3612</td>\n",
              "      <td>(X)</td>\n",
              "      <td>1886</td>\n",
              "      <td>186</td>\n",
              "      <td>52.2</td>\n",
              "      <td>...</td>\n",
              "      <td>2546</td>\n",
              "      <td>(X)</td>\n",
              "      <td>1280</td>\n",
              "      <td>113</td>\n",
              "      <td>50.3</td>\n",
              "      <td>4.3</td>\n",
              "      <td>1266</td>\n",
              "      <td>158</td>\n",
              "      <td>49.7</td>\n",
              "      <td>4.3</td>\n",
              "    </tr>\n",
              "    <tr>\n",
              "      <th>4</th>\n",
              "      <td>1400000US18097310106</td>\n",
              "      <td>18097310106</td>\n",
              "      <td>Census Tract 3101.06, Marion County, Indiana</td>\n",
              "      <td>3871</td>\n",
              "      <td>489</td>\n",
              "      <td>3871</td>\n",
              "      <td>(X)</td>\n",
              "      <td>1802</td>\n",
              "      <td>327</td>\n",
              "      <td>46.6</td>\n",
              "      <td>...</td>\n",
              "      <td>3078</td>\n",
              "      <td>(X)</td>\n",
              "      <td>1267</td>\n",
              "      <td>234</td>\n",
              "      <td>41.2</td>\n",
              "      <td>5.6</td>\n",
              "      <td>1811</td>\n",
              "      <td>262</td>\n",
              "      <td>58.8</td>\n",
              "      <td>5.6</td>\n",
              "    </tr>\n",
              "  </tbody>\n",
              "</table>\n",
              "<p>5 rows × 339 columns</p>\n",
              "</div>"
            ],
            "text/plain": [
              "                 GEO.id      GEO.id2  \\\n",
              "0                    Id          Id2   \n",
              "1  1400000US18097310103  18097310103   \n",
              "2  1400000US18097310104  18097310104   \n",
              "3  1400000US18097310105  18097310105   \n",
              "4  1400000US18097310106  18097310106   \n",
              "\n",
              "                              GEO.display-label  \\\n",
              "0                                     Geography   \n",
              "1  Census Tract 3101.03, Marion County, Indiana   \n",
              "2  Census Tract 3101.04, Marion County, Indiana   \n",
              "3  Census Tract 3101.05, Marion County, Indiana   \n",
              "4  Census Tract 3101.06, Marion County, Indiana   \n",
              "\n",
              "                                  HC01_VC03  \\\n",
              "0  Estimate; SEX AND AGE - Total population   \n",
              "1                                      6700   \n",
              "2                                      3309   \n",
              "3                                      3612   \n",
              "4                                      3871   \n",
              "\n",
              "                                         HC02_VC03  \\\n",
              "0  Margin of Error; SEX AND AGE - Total population   \n",
              "1                                              435   \n",
              "2                                              283   \n",
              "3                                              272   \n",
              "4                                              489   \n",
              "\n",
              "                                 HC03_VC03  \\\n",
              "0  Percent; SEX AND AGE - Total population   \n",
              "1                                     6700   \n",
              "2                                     3309   \n",
              "3                                     3612   \n",
              "4                                     3871   \n",
              "\n",
              "                                           HC04_VC03  \\\n",
              "0  Percent Margin of Error; SEX AND AGE - Total p...   \n",
              "1                                                (X)   \n",
              "2                                                (X)   \n",
              "3                                                (X)   \n",
              "4                                                (X)   \n",
              "\n",
              "                                         HC01_VC04  \\\n",
              "0  Estimate; SEX AND AGE - Total population - Male   \n",
              "1                                             3167   \n",
              "2                                             1374   \n",
              "3                                             1886   \n",
              "4                                             1802   \n",
              "\n",
              "                                           HC02_VC04  \\\n",
              "0  Margin of Error; SEX AND AGE - Total populatio...   \n",
              "1                                                419   \n",
              "2                                                217   \n",
              "3                                                186   \n",
              "4                                                327   \n",
              "\n",
              "                                        HC03_VC04  \\\n",
              "0  Percent; SEX AND AGE - Total population - Male   \n",
              "1                                            47.3   \n",
              "2                                            41.5   \n",
              "3                                            52.2   \n",
              "4                                            46.6   \n",
              "\n",
              "                         ...                          \\\n",
              "0                        ...                           \n",
              "1                        ...                           \n",
              "2                        ...                           \n",
              "3                        ...                           \n",
              "4                        ...                           \n",
              "\n",
              "                                          HC03_VC108  \\\n",
              "0  Percent; CITIZEN, VOTING AGE POPULATION - Citi...   \n",
              "1                                               4881   \n",
              "2                                               2988   \n",
              "3                                               2546   \n",
              "4                                               3078   \n",
              "\n",
              "                                          HC04_VC108  \\\n",
              "0  Percent Margin of Error; CITIZEN, VOTING AGE P...   \n",
              "1                                                (X)   \n",
              "2                                                (X)   \n",
              "3                                                (X)   \n",
              "4                                                (X)   \n",
              "\n",
              "                                          HC01_VC109  \\\n",
              "0  Estimate; CITIZEN, VOTING AGE POPULATION - Cit...   \n",
              "1                                               2167   \n",
              "2                                               1179   \n",
              "3                                               1280   \n",
              "4                                               1267   \n",
              "\n",
              "                                          HC02_VC109  \\\n",
              "0  Margin of Error; CITIZEN, VOTING AGE POPULATIO...   \n",
              "1                                                208   \n",
              "2                                                194   \n",
              "3                                                113   \n",
              "4                                                234   \n",
              "\n",
              "                                          HC03_VC109  \\\n",
              "0  Percent; CITIZEN, VOTING AGE POPULATION - Citi...   \n",
              "1                                               44.4   \n",
              "2                                               39.5   \n",
              "3                                               50.3   \n",
              "4                                               41.2   \n",
              "\n",
              "                                          HC04_VC109  \\\n",
              "0  Percent Margin of Error; CITIZEN, VOTING AGE P...   \n",
              "1                                                3.3   \n",
              "2                                                6.2   \n",
              "3                                                4.3   \n",
              "4                                                5.6   \n",
              "\n",
              "                                          HC01_VC110  \\\n",
              "0  Estimate; CITIZEN, VOTING AGE POPULATION - Cit...   \n",
              "1                                               2714   \n",
              "2                                               1809   \n",
              "3                                               1266   \n",
              "4                                               1811   \n",
              "\n",
              "                                          HC02_VC110  \\\n",
              "0  Margin of Error; CITIZEN, VOTING AGE POPULATIO...   \n",
              "1                                                234   \n",
              "2                                                244   \n",
              "3                                                158   \n",
              "4                                                262   \n",
              "\n",
              "                                          HC03_VC110  \\\n",
              "0  Percent; CITIZEN, VOTING AGE POPULATION - Citi...   \n",
              "1                                               55.6   \n",
              "2                                               60.5   \n",
              "3                                               49.7   \n",
              "4                                               58.8   \n",
              "\n",
              "                                          HC04_VC110  \n",
              "0  Percent Margin of Error; CITIZEN, VOTING AGE P...  \n",
              "1                                                3.3  \n",
              "2                                                6.2  \n",
              "3                                                4.3  \n",
              "4                                                5.6  \n",
              "\n",
              "[5 rows x 339 columns]"
            ]
          },
          "metadata": {
            "tags": []
          },
          "execution_count": 7
        }
      ]
    },
    {
      "metadata": {
        "id": "TAsW4MYsb_1k",
        "outputId": "fa57a04a-8fbf-4610-d29c-17314ccee742",
        "colab": {
          "base_uri": "https://localhost:8080/",
          "height": 204
        }
      },
      "cell_type": "code",
      "source": [
        "a_df = pd.read_csv(basepath + \"ACS_15_5YR_DP05_metadata.csv\")\n",
        "a_df.head()"
      ],
      "execution_count": null,
      "outputs": [
        {
          "output_type": "execute_result",
          "data": {
            "text/html": [
              "<div>\n",
              "<style scoped>\n",
              "    .dataframe tbody tr th:only-of-type {\n",
              "        vertical-align: middle;\n",
              "    }\n",
              "\n",
              "    .dataframe tbody tr th {\n",
              "        vertical-align: top;\n",
              "    }\n",
              "\n",
              "    .dataframe thead th {\n",
              "        text-align: right;\n",
              "    }\n",
              "</style>\n",
              "<table border=\"1\" class=\"dataframe\">\n",
              "  <thead>\n",
              "    <tr style=\"text-align: right;\">\n",
              "      <th></th>\n",
              "      <th>GEO.id</th>\n",
              "      <th>Id</th>\n",
              "    </tr>\n",
              "  </thead>\n",
              "  <tbody>\n",
              "    <tr>\n",
              "      <th>0</th>\n",
              "      <td>GEO.id2</td>\n",
              "      <td>Id2</td>\n",
              "    </tr>\n",
              "    <tr>\n",
              "      <th>1</th>\n",
              "      <td>GEO.display-label</td>\n",
              "      <td>Geography</td>\n",
              "    </tr>\n",
              "    <tr>\n",
              "      <th>2</th>\n",
              "      <td>HC01_VC03</td>\n",
              "      <td>Estimate; SEX AND AGE - Total population</td>\n",
              "    </tr>\n",
              "    <tr>\n",
              "      <th>3</th>\n",
              "      <td>HC02_VC03</td>\n",
              "      <td>Margin of Error; SEX AND AGE - Total population</td>\n",
              "    </tr>\n",
              "    <tr>\n",
              "      <th>4</th>\n",
              "      <td>HC03_VC03</td>\n",
              "      <td>Percent; SEX AND AGE - Total population</td>\n",
              "    </tr>\n",
              "  </tbody>\n",
              "</table>\n",
              "</div>"
            ],
            "text/plain": [
              "              GEO.id                                               Id\n",
              "0            GEO.id2                                              Id2\n",
              "1  GEO.display-label                                        Geography\n",
              "2          HC01_VC03         Estimate; SEX AND AGE - Total population\n",
              "3          HC02_VC03  Margin of Error; SEX AND AGE - Total population\n",
              "4          HC03_VC03          Percent; SEX AND AGE - Total population"
            ]
          },
          "metadata": {
            "tags": []
          },
          "execution_count": 8
        }
      ]
    },
    {
      "metadata": {
        "id": "SxdB6P_ulkfa"
      },
      "cell_type": "markdown",
      "source": [
        "## Uploading a Colab notebook to Kaggle Kernels\n",
        "\n",
        "Bear with us, as this is a little round-about..."
      ]
    },
    {
      "metadata": {
        "id": "o-NDs2dImDG0"
      },
      "cell_type": "markdown",
      "source": [
        "### Downloading a notebook from Colab\n",
        "\n",
        "To download from Colab, use **File** | **Download .ipynb**"
      ]
    },
    {
      "metadata": {
        "id": "zUMAuin2mbbW"
      },
      "cell_type": "markdown",
      "source": [
        "### Then upload the notebook to your Colab runtime"
      ]
    },
    {
      "metadata": {
        "id": "qox_MozfmF2Y"
      },
      "cell_type": "code",
      "source": [
        "uploaded = files.upload()\n",
        "notebook_path = list(uploaded.keys())[0]"
      ],
      "execution_count": null,
      "outputs": []
    },
    {
      "metadata": {
        "id": "7BT_rPcuoMsd"
      },
      "cell_type": "code",
      "source": [
        "!mkdir -p export\n",
        "!mv $notebook_path export/\n",
        "!kaggle kernels init -p export"
      ],
      "execution_count": null,
      "outputs": []
    },
    {
      "metadata": {
        "id": "Ls0Umf85q9UE"
      },
      "cell_type": "code",
      "source": [
        "import re\n",
        "your_kaggle_username = 'Your kaggle username'\n",
        "notebook_title = 'New Kernel'\n",
        "new_kernel_slug = re.sub(r'[^a-z0-9]+', '-', notebook_title.lower())"
      ],
      "execution_count": null,
      "outputs": []
    },
    {
      "metadata": {
        "id": "rp62OpkCo5D3"
      },
      "cell_type": "code",
      "source": [
        "# Documented here: https://github.com/Kaggle/kaggle-api/wiki/Kernel-Metadata\n",
        "metadata = '''\n",
        "{\n",
        "  \"id\": \"%s/%s\",\n",
        "  \"title\": \"%s\",\n",
        "  \"code_file\": \"%s\",\n",
        "  \"language\": \"python\",\n",
        "  \"kernel_type\": \"notebook\",\n",
        "  \"is_private\": \"true\",\n",
        "  \"enable_gpu\": \"false\",\n",
        "  \"enable_internet\": \"true\",\n",
        "  \"dataset_sources\": [],\n",
        "  \"competition_sources\": [],\n",
        "  \"kernel_sources\": []\n",
        "}\n",
        "''' % (your_kaggle_username, new_kernel_slug, notebook_title, notebook_path)"
      ],
      "execution_count": null,
      "outputs": []
    },
    {
      "metadata": {
        "id": "PyX-cbzIoj-V"
      },
      "cell_type": "code",
      "source": [
        "!echo '$metadata' > export/kernel-metadata.json\n",
        "!cat export/kernel-metadata.json"
      ],
      "execution_count": null,
      "outputs": []
    },
    {
      "metadata": {
        "id": "VDP5xJPklqYk"
      },
      "cell_type": "code",
      "source": [
        "!kaggle kernels push -p export"
      ],
      "execution_count": null,
      "outputs": []
    }
  ]
}